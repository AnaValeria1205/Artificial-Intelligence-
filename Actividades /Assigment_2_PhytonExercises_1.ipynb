{
  "nbformat": 4,
  "nbformat_minor": 0,
  "metadata": {
    "colab": {
      "provenance": []
    },
    "kernelspec": {
      "name": "python3",
      "display_name": "Python 3"
    },
    "language_info": {
      "name": "python"
    }
  },
  "cells": [
    {
      "cell_type": "markdown",
      "source": [
        "**Text Analysis Tool**\n",
        "1. Text Analysis Tool: Create a Python program that reads a text file and performs various analyses on its content. The program should: Count the number of words, sentences, and paragraphs. Calculate the average word length. Identify the most common words and their frequencies."
      ],
      "metadata": {
        "id": "Un7pQU7fiU9Y"
      }
    },
    {
      "cell_type": "code",
      "source": [
        "import re\n",
        "import collections\n",
        "\n",
        "def analyze_text_file(filename):\n",
        "    with open(filename, 'r') as file:\n",
        "        text = file.read()\n",
        "\n",
        "    words = text.split()\n",
        "    nwords = len(words)\n",
        "    print(\"Number of Words: \", nwords)\n",
        "\n",
        "    sentences = text.split('.')\n",
        "    nsentences = len(sentences)\n",
        "    print(\"Number of Sentences: \", nsentences)\n",
        "\n",
        "    paragraphs = text.split('\\n')\n",
        "    nparagraphs = len(paragraphs)\n",
        "    print(\"Number of Paragraphs: \", nparagraphs)\n",
        "\n",
        "    lenght = sum(len(word) for word in words)\n",
        "    averagelength = lenght / nwords\n",
        "    print(\"Average Word Length: \", averagelength)\n",
        "\n",
        "    words = [re.sub(r'[^\\w\\s]', '', word.lower()) for word in words]\n",
        "    word_freq = collections.Counter(words)\n",
        "    most_common = word_freq.most_common(5)\n",
        "\n",
        "    print(\"Most common words and their frequencies:\")\n",
        "    for word, freq in most_common:\n",
        "        print(f\"{word}: {freq}\")\n",
        "\n",
        "analyze_text_file('Tarea2.txt')\n"
      ],
      "metadata": {
        "id": "JXiiXq5TieXC",
        "colab": {
          "base_uri": "https://localhost:8080/"
        },
        "outputId": "12b48aba-0887-474e-fc62-58e679714446"
      },
      "execution_count": null,
      "outputs": [
        {
          "output_type": "stream",
          "name": "stdout",
          "text": [
            "Number of Words:  76\n",
            "Number of Sentences:  4\n",
            "Number of Paragraphs:  4\n",
            "Average Word Length:  4.842105263157895\n",
            "Most common words and their frequencies:\n",
            "is: 3\n",
            "the: 3\n",
            "learn: 3\n",
            "to: 3\n",
            "machine: 2\n"
          ]
        }
      ]
    },
    {
      "cell_type": "markdown",
      "source": [
        "**Hangman Game**\n",
        "2. Hangman Game: Create a Python program that allows a user to play the game of Hangman. The program should randomly select a word from a predefined list, and the player must guess letters one at a time until they guess the word correctly or run out of attempts.\n"
      ],
      "metadata": {
        "id": "nlh1UjQ5OIeI"
      }
    },
    {
      "cell_type": "code",
      "source": [
        "import random\n",
        "\n",
        "words = [\"machine\", \"learning\", \"artificial\", \"intelligence\", \"fime\", \"phyton\", \"engineer\"]\n",
        "word = random.choice(words)\n",
        "\n",
        "guessed = [\"_\"] * len(word)\n",
        "attempts = 10\n",
        "\n",
        "print(\"Hangman Game\")\n",
        "print(\"You have\", attempts, \"attempts to guess the word.\")\n",
        "\n",
        "while attempts > 0:\n",
        "    print(\" \".join(guessed))\n",
        "    guess = input(\"Guess a letter: \").lower()\n",
        "\n",
        "    if guess in word:\n",
        "        for i in range(len(word)):\n",
        "            if word[i] == guess:\n",
        "                guessed[i] = guess\n",
        "    else:\n",
        "        attempts -= 1\n",
        "        print(\"Incorrect! You have\", attempts, \"attempts left.\")\n",
        "\n",
        "    if \"_\" not in guessed:\n",
        "        print(\"Congratulations! You guessed the word:\", word)\n",
        "        break\n",
        "\n",
        "if attempts == 0:\n",
        "    print(\"Game over! The word was:\", word)"
      ],
      "metadata": {
        "id": "5psc4AkkPOtG",
        "colab": {
          "base_uri": "https://localhost:8080/"
        },
        "outputId": "993b9761-fde0-4616-a651-977bad847cf9"
      },
      "execution_count": null,
      "outputs": [
        {
          "output_type": "stream",
          "name": "stdout",
          "text": [
            "Hangman Game\n",
            "You have 10 attempts to guess the word.\n",
            "_ _ _ _\n",
            "Guess a letter: a\n",
            "Incorrect! You have 9 attempts left.\n",
            "_ _ _ _\n",
            "Guess a letter: e\n",
            "_ _ _ e\n",
            "Guess a letter: n\n",
            "Incorrect! You have 8 attempts left.\n",
            "_ _ _ e\n",
            "Guess a letter: t\n",
            "Incorrect! You have 7 attempts left.\n",
            "_ _ _ e\n",
            "Guess a letter: b\n",
            "Incorrect! You have 6 attempts left.\n",
            "_ _ _ e\n",
            "Guess a letter: m\n",
            "_ _ m e\n",
            "Guess a letter: i\n",
            "_ i m e\n",
            "Guess a letter: p\n",
            "Incorrect! You have 5 attempts left.\n",
            "_ i m e\n",
            "Guess a letter: s\n",
            "Incorrect! You have 4 attempts left.\n",
            "_ i m e\n",
            "Guess a letter: l\n",
            "Incorrect! You have 3 attempts left.\n",
            "_ i m e\n",
            "Guess a letter: f\n",
            "Congratulations! You guessed the word: fime\n"
          ]
        }
      ]
    },
    {
      "cell_type": "markdown",
      "source": [
        "**Number Guessing Game**\n",
        "3. Number Guessing Game: Create a program that generates a random number between 1 and 100, and then asks the user to guess the number. The program should provide hints to the user if the guessed number is greater or less than the target number, and keep asking for a new guess until the user guesses correctly."
      ],
      "metadata": {
        "id": "SlDKYKeRcIxS"
      }
    },
    {
      "cell_type": "code",
      "source": [
        "import random\n",
        "\n",
        "target = random.randint(1, 100)\n",
        "\n",
        "print(\"Number Guessing Game\")\n",
        "print(\"I'm thinking of a number between 1 and 100.\")\n",
        "\n",
        "while True:\n",
        "    guess = int(input(\"Guess a number: \"))\n",
        "\n",
        "    if guess == target:\n",
        "        print(\" Congratulations! You guessed the number: \", target)\n",
        "        break\n",
        "\n",
        "    elif guess > target:\n",
        "        print(\"Too high! Try a lower number.\")\n",
        "    else:\n",
        "        print(\"Too low! Try a higher number.\")"
      ],
      "metadata": {
        "id": "sMFlkPnJcciX",
        "colab": {
          "base_uri": "https://localhost:8080/"
        },
        "outputId": "8e41bf8c-fad9-4528-ae78-9c7c85dcbe3c"
      },
      "execution_count": null,
      "outputs": [
        {
          "output_type": "stream",
          "name": "stdout",
          "text": [
            "Number Guessing Game\n",
            "I'm thinking of a number between 1 and 100.\n",
            "Guess a number: 50\n",
            "Too high! Try a lower number.\n",
            "Guess a number: 20\n",
            "Too low! Try a higher number.\n",
            "Guess a number: 33\n",
            "Too low! Try a higher number.\n",
            "Guess a number: 44\n",
            "Too low! Try a higher number.\n",
            "Guess a number: 47\n",
            "Too high! Try a lower number.\n",
            "Guess a number: 46\n",
            " Congratulations! You guessed the number:  46\n"
          ]
        }
      ]
    }
  ]
}
